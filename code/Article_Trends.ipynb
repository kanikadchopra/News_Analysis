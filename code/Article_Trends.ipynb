{
 "cells": [
  {
   "cell_type": "markdown",
   "metadata": {},
   "source": [
    "# CBC Featured Article Scraping"
   ]
  },
  {
   "cell_type": "markdown",
   "metadata": {},
   "source": [
    "### Importing Libraries"
   ]
  },
  {
   "cell_type": "code",
   "execution_count": 28,
   "metadata": {},
   "outputs": [],
   "source": [
    "# Web Scraping \n",
    "import requests\n",
    "import urllib\n",
    "from bs4 import BeautifulSoup\n",
    "\n",
    "# Analysis\n",
    "import nltk\n",
    "import numpy as np\n",
    "import pandas as pd\n",
    "import spacy\n",
    "from spacy import displacy\n",
    "import string\n",
    "from matplotlib import pyplot\n",
    "\n",
    "# Display \n",
    "from IPython.display import display, Markdown\n",
    "\n",
    "# Functions Created\n",
    "from get_urls import cbc_urls\n",
    "from cbc_scraping import extract_info"
   ]
  },
  {
   "cell_type": "markdown",
   "metadata": {},
   "source": [
    "### Extracting the URLs"
   ]
  },
  {
   "cell_type": "markdown",
   "metadata": {},
   "source": [
    "First, we collect the urls that are in the featured stories. This includes primary featured stories and secondary featured stories. These urls will be used to extract further information from each article."
   ]
  },
  {
   "cell_type": "code",
   "execution_count": 2,
   "metadata": {},
   "outputs": [
    {
     "data": {
      "text/plain": [
       "['https://www.cbc.ca//news/canada/toronto/conrad-black-trump-pardon-1.5139524',\n",
       " 'https://www.cbc.ca//news/canada/ottawa/nathalie-des-rosier-resigning-1.5139657',\n",
       " 'https://www.cbc.ca//radio/checkup/i-wanted-to-pay-tribute-raptors-fan-immortalizes-kawhi-leonard-s-iconic-buzzer-beater-with-a-tattoo-1.5139483',\n",
       " 'https://www.cbc.ca//news/canada/toronto/ontario-anti-carbon-tax-ad-backfires-1.5139384',\n",
       " 'https://www.cbc.ca//news/canada/toronto/doug-ford-stem-cell-ontario-institute-regenerative-medicine-1.5137512',\n",
       " 'https://www.cbc.ca//news/canada/toronto/toronto-man-becomes-1st-canadian-to-swim-across-world-s-highest-navigable-lake-1.5139494',\n",
       " 'https://www.cbc.ca//news/canada/toronto/toronto-street-sweepers-still-have-lots-to-clean-1.5138989',\n",
       " 'https://www.cbc.ca//news/canada/toronto/milton-teens-likely-ingested-opioid-1.5138632',\n",
       " 'https://www.cbc.ca//news/canada/toronto/tory-raptors-jacket-1.5138557',\n",
       " 'https://www.cbc.ca//news/canada/toronto/tick-prevention-toronto-public-health-1.5138878',\n",
       " 'https://www.cbc.ca//news/canada/toronto/hats-hides-deer-moose-ontario-1.5138369',\n",
       " 'https://www.cbc.ca//news/canada/hamilton/car-charges-1.5138482',\n",
       " 'https://www.cbc.ca//news/canada/toronto/allstate-counterclaim-brampton-discrimination-1.5137325',\n",
       " 'https://www.cbc.ca//news/canada/toronto/suresh-ques-1.5137425',\n",
       " 'https://www.cbc.ca//news/canada/toronto/rolling-stones-reschedule-no-filter-tour-1.5138187',\n",
       " 'https://www.cbc.ca//news/canada/toronto/student-harvard-toronto-price-tag-1.5137806']"
      ]
     },
     "execution_count": 2,
     "metadata": {},
     "output_type": "execute_result"
    }
   ],
   "source": [
    "cbc_urls"
   ]
  },
  {
   "cell_type": "markdown",
   "metadata": {},
   "source": [
    "From the list of articles, we are extracting the article headline, summary, author, date, and url. We will be collecting this data for the 16 CBC articles on the Feature page (information extracted on May 16, 2019). "
   ]
  },
  {
   "cell_type": "code",
   "execution_count": 3,
   "metadata": {},
   "outputs": [
    {
     "data": {
      "text/plain": [
       "[{'headline': \"Conrad Black insists his relationship with Trump wasn't responsible for his criminal pardon\",\n",
       "  'summary': 'A criminal pardon U.S. President Donald Trump personally delivered to Conrad Black over the phone amounts to complete exoneration, the author and former media mogul said on Thursday.',\n",
       "  'author': 'The Canadian Press',\n",
       "  'date': 'Posted: May 16, 2019 7:24 PM ET | Last Updated: May 16',\n",
       "  'url': 'https://www.cbc.ca//news/canada/toronto/conrad-black-trump-pardon-1.5139524',\n",
       "  'article_id': 0},\n",
       " {'headline': 'Ottawa MPP Des Rosiers leaving seat for position at U of T',\n",
       "  'summary': 'Nathalie Des Rosiers, the MPP for Ottawa-Vanier, will be stepping down from her seat to take a position with Massey College at the University of Toronto.',\n",
       "  'author': 'CBC News',\n",
       "  'date': 'Posted: May 16, 2019 8:50 PM ET | Last Updated: May 17',\n",
       "  'url': 'https://www.cbc.ca//news/canada/ottawa/nathalie-des-rosier-resigning-1.5139657',\n",
       "  'article_id': 1},\n",
       " {'headline': \"'I wanted to pay tribute': Raptors fan immortalizes Kawhi Leonard's iconic buzzer-beater with a tattoo\",\n",
       "  'summary': 'Ian Maningas has been a fan of the Toronto Raptors his whole life — and after Kawhi Leonard’s miraculous buzzer-beating shot sent the whole city into rapture last Sunday, he wanted to remember it forever.',\n",
       "  'author': 'Duncan McCue',\n",
       "  'date': 'Posted: May 16, 2019 7:59 PM ET | Last Updated: May 16',\n",
       "  'url': 'https://www.cbc.ca//radio/checkup/i-wanted-to-pay-tribute-raptors-fan-immortalizes-kawhi-leonard-s-iconic-buzzer-beater-with-a-tattoo-1.5139483',\n",
       "  'article_id': 2},\n",
       " {'headline': \"People are ridiculing Ontario's anti-carbon tax ad for sending the opposite message on mute\",\n",
       "  'summary': \"The Ontario government's latest salvo against the federal carbon tax is being mocked online for appearing to accidentally promote the very cause it hoped to attack.\\xa0\",\n",
       "  'author': 'The Canadian Press',\n",
       "  'date': 'Posted: May 16, 2019 5:44 PM ET | Last Updated: May 17',\n",
       "  'url': 'https://www.cbc.ca//news/canada/toronto/ontario-anti-carbon-tax-ad-backfires-1.5139384',\n",
       "  'article_id': 3},\n",
       " {'headline': 'Ford government scraps funding for stem cell research',\n",
       "  'summary': 'The Ford government plans to stop all provincial funding to an institute that supports Ontario scientists at the cutting edge of stem cell research. ',\n",
       "  'author': 'Mike Crawley',\n",
       "  'date': 'Posted: May 16, 2019 4:00 AM ET | Last Updated: May 16',\n",
       "  'url': 'https://www.cbc.ca//news/canada/toronto/doug-ford-stem-cell-ontario-institute-regenerative-medicine-1.5137512',\n",
       "  'article_id': 4},\n",
       " {'headline': \"Toronto man becomes 1st Canadian to swim across world's highest navigable lake\",\n",
       "  'summary': 'Robert McGlashan became the first Canadian to swim across a portion of Lake Titicaca, the largest freshwater lake in South America and the highest navigable body of water in the world. ',\n",
       "  'author': 'Ryan Patrick Jones',\n",
       "  'date': 'Posted: May 16, 2019 7:12 PM ET | Last Updated: May 16',\n",
       "  'url': 'https://www.cbc.ca//news/canada/toronto/toronto-man-becomes-1st-canadian-to-swim-across-world-s-highest-navigable-lake-1.5139494',\n",
       "  'article_id': 5},\n",
       " {'headline': \"Toronto's street sweeper fleet is struggling, but still has plenty to clean\",\n",
       "  'summary': \"Toronto's streets are dirty enough that the city's depleted sweepers are still picking up nearly as much waste as the year they were put into service.\",\n",
       "  'author': 'John Rieti',\n",
       "  'date': 'Posted: May 16, 2019 3:51 PM ET | Last Updated: May 16',\n",
       "  'url': 'https://www.cbc.ca//news/canada/toronto/toronto-street-sweepers-still-have-lots-to-clean-1.5138989',\n",
       "  'article_id': 6},\n",
       " {'headline': 'Teens who went into medical distress at Milton home likely ingested an opioid, police say',\n",
       "  'summary': 'Police in Halton Region say they believe two teens who went unconscious after smoking cannabis at a Milton home on Wednesday afternoon also ingested some type of opioid. ',\n",
       "  'author': 'CBC News',\n",
       "  'date': 'Posted: May 16, 2019 1:03 PM ET | Last Updated: May 16',\n",
       "  'url': 'https://www.cbc.ca//news/canada/toronto/milton-teens-likely-ingested-opioid-1.5138632',\n",
       "  'article_id': 7},\n",
       " {'headline': 'Toronto Mayor John Tory turns heads with Raptors-themed jacket',\n",
       "  'summary': 'Toronto Mayor John Tory has often worn his love of the Raptors on his sleeve.\\xa0 \\xa0 He did that again, and this time literally, during Game 1 of the NBA Eastern Conference final between Toronto and Milwaukee Bucks on Wednesday night.',\n",
       "  'author': 'The Canadian Press',\n",
       "  'date': 'Posted: May 16, 2019 12:34 PM ET | Last Updated: May 16',\n",
       "  'url': 'https://www.cbc.ca//news/canada/toronto/tory-raptors-jacket-1.5138557',\n",
       "  'article_id': 8},\n",
       " {'headline': \"Disease carrying ticks are spreading across Ontario. Here's how to protect yourself \",\n",
       "  'summary': 'Disease-carrying ticks are relentlessly spreading across Ontario and Toronto Public Health officials are advising\\xa0residents to be on the lookout for bites as spring temperatures climb.\\xa0',\n",
       "  'author': 'CBC News',\n",
       "  'date': 'Posted: May 16, 2019 3:39 PM ET | Last Updated: May 16',\n",
       "  'url': 'https://www.cbc.ca//news/canada/toronto/tick-prevention-toronto-public-health-1.5138878',\n",
       "  'article_id': 9},\n",
       " {'headline': \"Ford government spending $100K on 'Hats for Hides' hunting program\",\n",
       "  'summary': '\"Hats for Hides\" provides hunters with a hat or crest in exchange for pelts harvested throughout various hunting seasons in the province.',\n",
       "  'author': 'CBC News',\n",
       "  'date': 'Posted: May 16, 2019 10:43 AM ET | Last Updated: May 16',\n",
       "  'url': 'https://www.cbc.ca//news/canada/toronto/hats-hides-deer-moose-ontario-1.5138369',\n",
       "  'article_id': 10},\n",
       " {'headline': 'Driver of doors open QEW car now facing dangerous driving charges',\n",
       "  'summary': 'The driver of a car caught on a widely-shared video heading down the QEW with its doors wide open and something hanging out of the trunk has been charged yet again —\\xa0this time, for his unorthodox method\\xa0of hauling.',\n",
       "  'author': 'Adam Carter',\n",
       "  'date': 'Posted: May 16, 2019 11:57 AM ET | Last Updated: May 16',\n",
       "  'url': 'https://www.cbc.ca//news/canada/hamilton/car-charges-1.5138482',\n",
       "  'article_id': 11},\n",
       " {'headline': 'Allstate whistleblower facing $700K lawsuit says insurance giant trying to silence her',\n",
       "  'summary': 'A former Allstate Insurance Canada employee who launched a wrongful dismissal suit and had publicly criticized a practice she called discriminatory is defending herself against an Allstate counterclaim that could cost her more than $700,000 in damages.',\n",
       "  'author': 'Nick Boisvert',\n",
       "  'date': 'Posted: May 16, 2019 5:00 AM ET | Last Updated: May 16',\n",
       "  'url': 'https://www.cbc.ca//news/canada/toronto/allstate-counterclaim-brampton-discrimination-1.5137325',\n",
       "  'article_id': 12},\n",
       " {'headline': 'Try the grasshopper tacos at this Mexican restaurant in The Beach',\n",
       "  'summary': 'Xola is a Mexican restaurant located in The Beach neighbourhood serving up tacos, ceviche and some insect protein dishes. ',\n",
       "  'author': 'Suresh Doss',\n",
       "  'date': 'Posted: May 16, 2019 7:45 AM ET | Last Updated: May 16',\n",
       "  'url': 'https://www.cbc.ca//news/canada/toronto/suresh-ques-1.5137425',\n",
       "  'article_id': 13},\n",
       " {'headline': 'Rolling Stones will rock out in Canada this summer during rescheduled tour',\n",
       "  'summary': 'The Rolling Stones will head back to Canada and the U.S. this summer after rescheduling\\xa0the North American leg of their upcoming tour\\xa0so lead vocalist Mick Jagger could recover from heart surgery.\\xa0',\n",
       "  'author': 'CBC News',\n",
       "  'date': 'Posted: May 16, 2019 9:06 AM ET | Last Updated: May 16',\n",
       "  'url': 'https://www.cbc.ca//news/canada/toronto/rolling-stones-reschedule-no-filter-tour-1.5138187',\n",
       "  'article_id': 14},\n",
       " {'headline': 'This young Ontario woman was accepted to Harvard, but now has just a month to raise $75K',\n",
       "  'summary': \"Imagine getting into Harvard and then realizing you may not be able to go. That's what a young woman in Caledon is now facing after receiving a surprise acceptance letter from the Ivy League school that said she needed to come up with one year's tuition within three months.\",\n",
       "  'author': 'CBC News',\n",
       "  'date': 'Posted: May 15, 2019 8:04 PM ET | Last Updated: May 16',\n",
       "  'url': 'https://www.cbc.ca//news/canada/toronto/student-harvard-toronto-price-tag-1.5137806',\n",
       "  'article_id': 15}]"
      ]
     },
     "execution_count": 3,
     "metadata": {},
     "output_type": "execute_result"
    }
   ],
   "source": [
    "articles_info = []\n",
    "for i in range(len(cbc_urls)):\n",
    "    url = cbc_urls[i]\n",
    "    info = extract_info(url)\n",
    "    info['article_id']  = i \n",
    "    articles_info.append(info)\n",
    "\n",
    "articles_info"
   ]
  },
  {
   "cell_type": "markdown",
   "metadata": {},
   "source": [
    "### Cleaning up the Data"
   ]
  },
  {
   "cell_type": "markdown",
   "metadata": {},
   "source": [
    "We are going to work with one article first then apply a similar technique to all of the remaining 15 articles. We'll start with the first article in the list of cbc_urls from the homepage."
   ]
  },
  {
   "cell_type": "code",
   "execution_count": 30,
   "metadata": {},
   "outputs": [
    {
     "data": {
      "text/plain": [
       "{'headline': 'TDSB announces over 300 high school courses to be cut next year due to provincial changes',\n",
       " 'summary': 'The Toronto District School Board says more than 300 classes are being cancelled over the coming school year and another 300 or so will continue on with larger class sizes as a result of provincial changes to class size averages. ',\n",
       " 'author': 'CBC News',\n",
       " 'date': 'Posted: May 17, 2019 5:47 PM ET | Last Updated: May 17',\n",
       " 'url': 'https://www.cbc.ca//news/canada/toronto/tdsb-courses-cut-high-school-1.5141230',\n",
       " 'article_id': 0}"
      ]
     },
     "execution_count": 30,
     "metadata": {},
     "output_type": "execute_result"
    }
   ],
   "source": [
    "article = articles_info[0]\n",
    "article"
   ]
  },
  {
   "cell_type": "code",
   "execution_count": 31,
   "metadata": {},
   "outputs": [],
   "source": [
    "# Removing the unicode text from the article summaries\n",
    "cleaned_summary = article['summary'].replace('\\xa0', '')\n",
    "article['summary'] = cleaned_summary"
   ]
  },
  {
   "cell_type": "code",
   "execution_count": 32,
   "metadata": {},
   "outputs": [],
   "source": [
    "# Simplifying the date string so it only has Month Day, Year Time\n",
    "date = article['date']\n",
    "start = len('Posted:' )\n",
    "end = date.find('|')\n",
    "cleaned_date = date[start:end].strip()\n",
    "\n",
    "article['date'] = cleaned_date"
   ]
  },
  {
   "cell_type": "code",
   "execution_count": 33,
   "metadata": {},
   "outputs": [
    {
     "data": {
      "text/plain": [
       "{'headline': 'TDSB announces over 300 high school courses to be cut next year due to provincial changes',\n",
       " 'summary': 'The Toronto District School Board says more than 300 classes are being cancelled over the coming school year and another 300 or so will continue on with larger class sizes as a result of provincial changes to class size averages. ',\n",
       " 'author': 'CBC News',\n",
       " 'date': 'May 17, 2019 5:47 PM ET',\n",
       " 'url': 'https://www.cbc.ca//news/canada/toronto/tdsb-courses-cut-high-school-1.5141230',\n",
       " 'article_id': 0}"
      ]
     },
     "execution_count": 33,
     "metadata": {},
     "output_type": "execute_result"
    }
   ],
   "source": [
    "article"
   ]
  },
  {
   "cell_type": "markdown",
   "metadata": {},
   "source": [
    "### Loading the English NLP Model"
   ]
  },
  {
   "cell_type": "code",
   "execution_count": 34,
   "metadata": {},
   "outputs": [],
   "source": [
    "#  Load the English NLP Model (for NER)\n",
    "nlp = spacy.load('en_core_web_sm')\n",
    "\n",
    "headline = article['headline']\n",
    "doc = nlp(headline)"
   ]
  },
  {
   "cell_type": "markdown",
   "metadata": {},
   "source": [
    "### Named Entity Recognition (NER)"
   ]
  },
  {
   "cell_type": "markdown",
   "metadata": {},
   "source": [
    "We are going to use named entity recognition to see what companies, countries, people, etc. are mentioned in article summaries."
   ]
  },
  {
   "cell_type": "code",
   "execution_count": 35,
   "metadata": {},
   "outputs": [
    {
     "data": {
      "text/html": [
       "<div class=\"entities\" style=\"line-height: 2.5\">TDSB announces \n",
       "<mark class=\"entity\" style=\"background: #e4e7d2; padding: 0.45em 0.6em; margin: 0 0.25em; line-height: 1; border-radius: 0.35em; box-decoration-break: clone; -webkit-box-decoration-break: clone\">\n",
       "    over 300\n",
       "    <span style=\"font-size: 0.8em; font-weight: bold; line-height: 1; border-radius: 0.35em; text-transform: uppercase; vertical-align: middle; margin-left: 0.5rem\">CARDINAL</span>\n",
       "</mark>\n",
       " high school courses to be cut \n",
       "<mark class=\"entity\" style=\"background: #bfe1d9; padding: 0.45em 0.6em; margin: 0 0.25em; line-height: 1; border-radius: 0.35em; box-decoration-break: clone; -webkit-box-decoration-break: clone\">\n",
       "    next year\n",
       "    <span style=\"font-size: 0.8em; font-weight: bold; line-height: 1; border-radius: 0.35em; text-transform: uppercase; vertical-align: middle; margin-left: 0.5rem\">DATE</span>\n",
       "</mark>\n",
       " due to provincial changes</div>"
      ],
      "text/plain": [
       "<IPython.core.display.HTML object>"
      ]
     },
     "metadata": {},
     "output_type": "display_data"
    }
   ],
   "source": [
    "displacy.render(doc, style='ent', jupyter=True)"
   ]
  },
  {
   "cell_type": "code",
   "execution_count": 36,
   "metadata": {},
   "outputs": [
    {
     "data": {
      "text/plain": [
       "(over 300, next year)"
      ]
     },
     "execution_count": 36,
     "metadata": {},
     "output_type": "execute_result"
    }
   ],
   "source": [
    "headline_ents = doc.ents\n",
    "headline_ents"
   ]
  },
  {
   "cell_type": "code",
   "execution_count": 37,
   "metadata": {},
   "outputs": [
    {
     "data": {
      "text/plain": [
       "{type: [next year]}"
      ]
     },
     "execution_count": 37,
     "metadata": {},
     "output_type": "execute_result"
    }
   ],
   "source": [
    "# Organize by entity types - organizations, people, places, etc.\n",
    "entities = {}\n",
    "\n",
    "for i in range(len(doc.ents)):\n",
    "    ent_type = doc.ents[i].label_\n",
    "    if ent_type in entities:\n",
    "        entities[type] += [doc.ents[i]]\n",
    "    else:\n",
    "        entities[type] = [doc.ents[i]]\n",
    "\n",
    "entities"
   ]
  },
  {
   "cell_type": "code",
   "execution_count": 38,
   "metadata": {},
   "outputs": [
    {
     "data": {
      "text/plain": [
       "[{'headline': 'TDSB announces over 300 high school courses to be cut next year due to provincial changes',\n",
       "  'summary': 'The Toronto District School Board says more than 300 classes are being cancelled over the coming school year and another 300 or so will continue on with larger class sizes as a result of provincial changes to class size averages. ',\n",
       "  'author': 'CBC News',\n",
       "  'date': 'May 17, 2019 5:47 PM ET',\n",
       "  'url': 'https://www.cbc.ca//news/canada/toronto/tdsb-courses-cut-high-school-1.5141230',\n",
       "  'article_id': 0},\n",
       " {'headline': 'Father and son arrested for allegedly possessing explosive substances, detonator released on bail',\n",
       "  'summary': 'Reza Mohammadiasl, 47, and his son Mahyar, 18, were arrested on Monday and charged with one count each of possession of an explosive substance.',\n",
       "  'author': 'CBC News',\n",
       "  'date': 'Posted: May 17, 2019 2:13 PM ET | Last Updated: May 17',\n",
       "  'url': 'https://www.cbc.ca//news/canada/toronto/father-son-released-bail-explosive-materials-richmond-hill-1.5140642',\n",
       "  'article_id': 1},\n",
       " {'headline': 'A massive Raptors logo has been painted onto a downtown park',\n",
       "  'summary': \"If the city wasn't already basketball crazy,\\xa0a downtown park just got a major makeover in the name of the game. A massive Raptors logo was painted onto the turf at Canoe Landing Park Friday.\",\n",
       "  'author': 'CBC News',\n",
       "  'date': 'Posted: May 17, 2019 6:56 PM ET | Last Updated: May 17',\n",
       "  'url': 'https://www.cbc.ca//news/canada/toronto/massive-raptors-logo-downtown-park-1.5141395',\n",
       "  'article_id': 2}]"
      ]
     },
     "execution_count": 38,
     "metadata": {},
     "output_type": "execute_result"
    }
   ],
   "source": [
    "# Finding the entity types for all of the 16 headlines\n",
    "\n",
    "for i in range(len(articles_info)):\n",
    "    headline = articles_info[i]['headline']\n",
    "    doc = nlp(headline)\n",
    "    for j in range(len(doc.ents)):\n",
    "        ent_type = doc.ents[j].label_\n",
    "        if ent_type == 'ORG':\n",
    "            articles_info[i]['organizations'] = doc.ents[j]\n",
    "        elif ent_type == 'PERSON':\n",
    "            articles_info[i]['people'] = doc.ents[j]\n",
    "            \n",
    "articles_info"
   ]
  },
  {
   "cell_type": "markdown",
   "metadata": {},
   "source": [
    "### Cleaning the Text "
   ]
  },
  {
   "cell_type": "code",
   "execution_count": 39,
   "metadata": {},
   "outputs": [
    {
     "data": {
      "text/plain": [
       "'tdsb announces over 300 high school courses to be cut next year due to provincial changes'"
      ]
     },
     "execution_count": 39,
     "metadata": {},
     "output_type": "execute_result"
    }
   ],
   "source": [
    "# Converting headline to lowercase \n",
    "headline = articles_info[0]['headline'].lower() \n",
    "\n",
    "headline"
   ]
  },
  {
   "cell_type": "markdown",
   "metadata": {},
   "source": [
    "### NLP Processing - Headlines"
   ]
  },
  {
   "cell_type": "markdown",
   "metadata": {},
   "source": [
    "#### Sentence Splitting \n",
    "We begin by making sure the headline is one sentence and if not we split it using nltk. "
   ]
  },
  {
   "cell_type": "code",
   "execution_count": 40,
   "metadata": {},
   "outputs": [
    {
     "name": "stdout",
     "output_type": "stream",
     "text": [
      "['tdsb announces over 300 high school courses to be cut next year due to provincial changes']\n"
     ]
    }
   ],
   "source": [
    "# Splitting the headline sentences\n",
    "tokenized_sentences = nltk.tokenize.sent_tokenize(headline)\n",
    "print(tokenized_sentences)"
   ]
  },
  {
   "cell_type": "markdown",
   "metadata": {},
   "source": [
    "#### Tokenization\n",
    "Next, we will be removing punctuation and tokenizing the words."
   ]
  },
  {
   "cell_type": "code",
   "execution_count": 41,
   "metadata": {},
   "outputs": [
    {
     "name": "stdout",
     "output_type": "stream",
     "text": [
      "['tdsb', 'announces', 'over', '300', 'high', 'school', 'courses', 'to', 'be', 'cut', 'next', 'year', 'due', 'to', 'provincial', 'changes']\n"
     ]
    }
   ],
   "source": [
    "# Filter out anything that is not a word \n",
    "tokenizer = nltk.tokenize.RegexpTokenizer(r'\\w+')\n",
    "\n",
    "tokenized_headline = tokenizer.tokenize(headline)\n",
    "\n",
    "print(tokenized_headline)"
   ]
  },
  {
   "cell_type": "code",
   "execution_count": 43,
   "metadata": {},
   "outputs": [
    {
     "data": {
      "text/markdown": [
       "**Original**: ['tdsb', 'announces', 'over', '300', 'high', 'school', 'courses', 'to', 'be', 'cut', 'next', 'year', 'due', 'to', 'provincial', 'changes']"
      ],
      "text/plain": [
       "<IPython.core.display.Markdown object>"
      ]
     },
     "metadata": {},
     "output_type": "display_data"
    },
    {
     "data": {
      "text/markdown": [
       "**Cleaned**: ['tdsb', 'announces', '300', 'high', 'school', 'courses', 'cut', 'next', 'year', 'due', 'provincial', 'changes']"
      ],
      "text/plain": [
       "<IPython.core.display.Markdown object>"
      ]
     },
     "metadata": {},
     "output_type": "display_data"
    }
   ],
   "source": [
    "# Removing stop words from headlines \n",
    "from nltk.corpus import stopwords\n",
    "from nltk import word_tokenize\n",
    "\n",
    "stop_words = set(stopwords.words('english'))\n",
    "\n",
    "token_words = word_tokenize(headline)\n",
    "\n",
    "new_headline = []\n",
    "for word in token_words:\n",
    "    if word not in stop_words:\n",
    "        new_headline.append(word)\n",
    "        \n",
    "display(Markdown(f\"**Original**: {token_words}\"))\n",
    "display(Markdown(f\"**Cleaned**: {new_headline}\"))        "
   ]
  },
  {
   "cell_type": "markdown",
   "metadata": {},
   "source": [
    "#### Lemmatization\n",
    "We use lemmatization instead of stemming because we want to take into account the context and part of speech from the headline in order to determine the root form."
   ]
  },
  {
   "cell_type": "code",
   "execution_count": 44,
   "metadata": {},
   "outputs": [
    {
     "data": {
      "text/plain": [
       "['tdsb',\n",
       " 'announces',\n",
       " '300',\n",
       " 'high',\n",
       " 'school',\n",
       " 'course',\n",
       " 'cut',\n",
       " 'next',\n",
       " 'year',\n",
       " 'due',\n",
       " 'provincial',\n",
       " 'change']"
      ]
     },
     "execution_count": 44,
     "metadata": {},
     "output_type": "execute_result"
    }
   ],
   "source": [
    "from nltk.stem import WordNetLemmatizer\n",
    "\n",
    "lem = WordNetLemmatizer()\n",
    "\n",
    "for i in range(len(new_headline)):\n",
    "    word = new_headline[i]\n",
    "    new_headline[i] = lem.lemmatize(word)\n",
    "    \n",
    "new_headline"
   ]
  },
  {
   "cell_type": "code",
   "execution_count": 45,
   "metadata": {},
   "outputs": [
    {
     "data": {
      "text/markdown": [
       "**Original Headline**: TDSB announces over 300 high school courses to be cut next year due to provincial changes"
      ],
      "text/plain": [
       "<IPython.core.display.Markdown object>"
      ]
     },
     "metadata": {},
     "output_type": "display_data"
    },
    {
     "data": {
      "text/markdown": [
       "**Cleaned Headline**: tdsb announces 300 high school course cut next year due provincial change"
      ],
      "text/plain": [
       "<IPython.core.display.Markdown object>"
      ]
     },
     "metadata": {},
     "output_type": "display_data"
    },
    {
     "data": {
      "text/markdown": [
       "---"
      ],
      "text/plain": [
       "<IPython.core.display.Markdown object>"
      ]
     },
     "metadata": {},
     "output_type": "display_data"
    }
   ],
   "source": [
    "# Removing contraction leftovers: n't \n",
    "new_headline = list(filter(lambda x: x!=\"n't\", new_headline))\n",
    "\n",
    "sentence = ' '.join(new_headline)\n",
    "\n",
    "display(Markdown(f\"**Original Headline**: {articles_info[0]['headline']}\"))\n",
    "display(Markdown(f\"**Cleaned Headline**: {sentence}\"))\n",
    "display(Markdown(f'---'))"
   ]
  },
  {
   "cell_type": "markdown",
   "metadata": {},
   "source": [
    "### Word Frequencies"
   ]
  },
  {
   "cell_type": "code",
   "execution_count": 46,
   "metadata": {},
   "outputs": [
    {
     "data": {
      "text/plain": [
       "{'tdsb': 1,\n",
       " 'announces': 1,\n",
       " '300': 1,\n",
       " 'high': 1,\n",
       " 'school': 1,\n",
       " 'course': 1,\n",
       " 'cut': 1,\n",
       " 'next': 1,\n",
       " 'year': 1,\n",
       " 'due': 1,\n",
       " 'provincial': 1,\n",
       " 'change': 1}"
      ]
     },
     "execution_count": 46,
     "metadata": {},
     "output_type": "execute_result"
    }
   ],
   "source": [
    "d = {}\n",
    "for i in range(len(new_headline)):\n",
    "    word = new_headline[i]\n",
    "    if word in d:\n",
    "        d[word] += 1\n",
    "    else:\n",
    "        d[word] = 1\n",
    "\n",
    "d"
   ]
  },
  {
   "cell_type": "markdown",
   "metadata": {},
   "source": [
    "### Graphing Frequencies"
   ]
  },
  {
   "cell_type": "markdown",
   "metadata": {},
   "source": [
    "We will now graph the frequency of the words from the featured headlines on the CBC main home page."
   ]
  },
  {
   "cell_type": "code",
   "execution_count": 47,
   "metadata": {},
   "outputs": [
    {
     "data": {
      "text/html": [
       "<div>\n",
       "<style scoped>\n",
       "    .dataframe tbody tr th:only-of-type {\n",
       "        vertical-align: middle;\n",
       "    }\n",
       "\n",
       "    .dataframe tbody tr th {\n",
       "        vertical-align: top;\n",
       "    }\n",
       "\n",
       "    .dataframe thead th {\n",
       "        text-align: right;\n",
       "    }\n",
       "</style>\n",
       "<table border=\"1\" class=\"dataframe\">\n",
       "  <thead>\n",
       "    <tr style=\"text-align: right;\">\n",
       "      <th></th>\n",
       "      <th>Frequency</th>\n",
       "    </tr>\n",
       "  </thead>\n",
       "  <tbody>\n",
       "    <tr>\n",
       "      <th>tdsb</th>\n",
       "      <td>1</td>\n",
       "    </tr>\n",
       "    <tr>\n",
       "      <th>announces</th>\n",
       "      <td>1</td>\n",
       "    </tr>\n",
       "    <tr>\n",
       "      <th>300</th>\n",
       "      <td>1</td>\n",
       "    </tr>\n",
       "    <tr>\n",
       "      <th>high</th>\n",
       "      <td>1</td>\n",
       "    </tr>\n",
       "    <tr>\n",
       "      <th>school</th>\n",
       "      <td>1</td>\n",
       "    </tr>\n",
       "    <tr>\n",
       "      <th>course</th>\n",
       "      <td>1</td>\n",
       "    </tr>\n",
       "    <tr>\n",
       "      <th>cut</th>\n",
       "      <td>1</td>\n",
       "    </tr>\n",
       "    <tr>\n",
       "      <th>next</th>\n",
       "      <td>1</td>\n",
       "    </tr>\n",
       "    <tr>\n",
       "      <th>year</th>\n",
       "      <td>1</td>\n",
       "    </tr>\n",
       "    <tr>\n",
       "      <th>due</th>\n",
       "      <td>1</td>\n",
       "    </tr>\n",
       "    <tr>\n",
       "      <th>provincial</th>\n",
       "      <td>1</td>\n",
       "    </tr>\n",
       "    <tr>\n",
       "      <th>change</th>\n",
       "      <td>1</td>\n",
       "    </tr>\n",
       "  </tbody>\n",
       "</table>\n",
       "</div>"
      ],
      "text/plain": [
       "            Frequency\n",
       "tdsb                1\n",
       "announces           1\n",
       "300                 1\n",
       "high                1\n",
       "school              1\n",
       "course              1\n",
       "cut                 1\n",
       "next                1\n",
       "year                1\n",
       "due                 1\n",
       "provincial          1\n",
       "change              1"
      ]
     },
     "execution_count": 47,
     "metadata": {},
     "output_type": "execute_result"
    }
   ],
   "source": [
    "index = list(range(len(d)))\n",
    "index\n",
    "\n",
    "df = pd.DataFrame.from_dict(d, orient='index')\n",
    "df.columns = ['Frequency']\n",
    "\n",
    "df"
   ]
  },
  {
   "cell_type": "code",
   "execution_count": 50,
   "metadata": {},
   "outputs": [
    {
     "data": {
      "image/png": "[encoded data removed]",
      "text/plain": [
       "<Figure size 432x288 with 1 Axes>"
      ]
     },
     "metadata": {
      "needs_background": "light"
     },
     "output_type": "display_data"
    }
   ],
   "source": [
    "ax = df.plot.bar(rot=0)"
   ]
  },
  {
   "cell_type": "code",
   "execution_count": null,
   "metadata": {},
   "outputs": [],
   "source": []
  }
 ],
 "metadata": {
  "kernelspec": {
   "display_name": "Python 3",
   "language": "python",
   "name": "python3"
  },
  "language_info": {
   "codemirror_mode": {
    "name": "ipython",
    "version": 3
   },
   "file_extension": ".py",
   "mimetype": "text/x-python",
   "name": "python",
   "nbconvert_exporter": "python",
   "pygments_lexer": "ipython3",
   "version": "3.7.1"
  }
 },
 "nbformat": 4,
 "nbformat_minor": 2
}
